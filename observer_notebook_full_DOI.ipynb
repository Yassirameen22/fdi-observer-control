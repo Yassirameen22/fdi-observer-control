{
 "cells": [
  {
   "cell_type": "markdown",
   "id": "69bc972f",
   "metadata": {},
   "source": [
    "\n",
    "> 📌 **DOI:** [10.5281/zenodo.15636698](https://doi.org/10.5281/zenodo.15636698)  \n",
    "This notebook is part of the FDI Observer Simulator project for secure estimation in wireless CPS.  \n",
    "For citation and licensing, see the [Zenodo record](https://doi.org/10.5281/zenodo.15636698).\n"
   ]
  },
  {
   "cell_type": "markdown",
   "id": "de31de73",
   "metadata": {},
   "source": [
    "# Observer-Based Estimation under FDI and Packet Loss"
   ]
  },
  {
   "cell_type": "code",
   "execution_count": null,
   "id": "1d53fa91",
   "metadata": {},
   "outputs": [],
   "source": [
    "import numpy as np\n",
    "import matplotlib.pyplot as plt\n",
    "from scipy.linalg import solve_discrete_are\n",
    "from gain_synthesis_lmi import synthesize_observer_gain\n",
    "from sliding_mode_observer import SlidingModeObserver"
   ]
  },
  {
   "cell_type": "code",
   "execution_count": null,
   "id": "e3aaeb22",
   "metadata": {},
   "outputs": [],
   "source": [
    "T = 100\n",
    "n, m, p = 2, 1, 1\n",
    "A = np.array([[1.0, 0.1], [0, 1.0]])\n",
    "B = np.array([[0.0], [0.1]])\n",
    "C = np.array([[1.0, 0.0]])\n",
    "Q = np.eye(n)\n",
    "R = np.eye(m)"
   ]
  },
  {
   "cell_type": "code",
   "execution_count": null,
   "id": "33c5b69d",
   "metadata": {},
   "outputs": [],
   "source": [
    "L = synthesize_observer_gain(A, C)\n",
    "P = solve_discrete_are(A, B, Q, R)\n",
    "K = np.linalg.inv(R + B.T @ P @ B) @ (B.T @ P @ A)"
   ]
  },
  {
   "cell_type": "code",
   "execution_count": null,
   "id": "fe8ae936",
   "metadata": {},
   "outputs": [],
   "source": [
    "x = np.zeros((n, T))\n",
    "x_hat_luen = np.zeros((n, T))\n",
    "x_hat_smo = np.zeros((n, T))\n",
    "e_luen = np.zeros((n, T))\n",
    "e_smo = np.zeros((n, T))\n",
    "attack_strength = 0.2\n",
    "z = attack_strength * np.random.randn(p, T)\n",
    "w_std = 0.01\n",
    "v_std = 0.01\n",
    "drop_prob = 0.3\n",
    "SMO = SlidingModeObserver(A, B, C, L, rho=0.05)\n",
    "SMO.reset()"
   ]
  },
  {
   "cell_type": "code",
   "execution_count": null,
   "id": "41dd4fe7",
   "metadata": {},
   "outputs": [],
   "source": [
    "for k in range(T - 1):\n",
    "    u_k = -K @ x_hat_luen[:, k]\n",
    "    w_k = w_std * np.random.randn(n)\n",
    "    v_k = v_std * np.random.randn(p)\n",
    "    x[:, k + 1] = A @ x[:, k] + B @ u_k + w_k\n",
    "    y_k = C @ x[:, k] + z[:, k] + v_k\n",
    "\n",
    "    if np.random.rand() < drop_prob:\n",
    "        x_hat_luen[:, k + 1] = A @ x_hat_luen[:, k] + B @ u_k\n",
    "        x_hat_smo[:, k + 1] = A @ x_hat_smo[:, k] + B @ u_k\n",
    "    else:\n",
    "        innovation = y_k - C @ x_hat_luen[:, k]\n",
    "        x_hat_luen[:, k + 1] = A @ x_hat_luen[:, k] + B @ u_k + L @ innovation\n",
    "        x_hat_smo[:, k + 1], _ = SMO.update(u_k, y_k)\n",
    "\n",
    "    e_luen[:, k + 1] = x[:, k + 1] - x_hat_luen[:, k + 1]\n",
    "    e_smo[:, k + 1] = x[:, k + 1] - x_hat_smo[:, k + 1]"
   ]
  },
  {
   "cell_type": "code",
   "execution_count": null,
   "id": "07e0656b",
   "metadata": {},
   "outputs": [],
   "source": [
    "plt.figure(figsize=(10, 5))\n",
    "plt.plot(np.linalg.norm(e_luen, axis=0), label='Luenberger')\n",
    "plt.plot(np.linalg.norm(e_smo, axis=0), label='Sliding Mode')\n",
    "plt.title('Estimation Error Norm Comparison (FDI + Packet Loss)')\n",
    "plt.xlabel('Time Step')\n",
    "plt.ylabel('||e_k||')\n",
    "plt.grid(True)\n",
    "plt.legend()\n",
    "plt.tight_layout()\n",
    "plt.show()"
   ]
  },
  {
   "cell_type": "code",
   "execution_count": null,
   "id": "9cee39dc",
   "metadata": {},
   "outputs": [],
   "source": [
    "attack_levels = np.linspace(0.0, 0.6, 6)\n",
    "drop_probs = np.linspace(0.0, 0.6, 6)\n",
    "mean_errors = np.zeros((len(attack_levels), len(drop_probs)))\n",
    "\n",
    "for i, zeta in enumerate(attack_levels):\n",
    "    for j, drop_prob in enumerate(drop_probs):\n",
    "        x = np.zeros((n, T))\n",
    "        x_hat = np.zeros((n, T))\n",
    "        e = np.zeros((n, T))\n",
    "        z = zeta * np.random.randn(p, T)\n",
    "\n",
    "        for k in range(T - 1):\n",
    "            u_k = -K @ x_hat[:, k]\n",
    "            w_k = w_std * np.random.randn(n)\n",
    "            v_k = v_std * np.random.randn(p)\n",
    "            x[:, k + 1] = A @ x[:, k] + B @ u_k + w_k\n",
    "            y_k = C @ x[:, k] + z[:, k] + v_k\n",
    "\n",
    "            if np.random.rand() < drop_prob:\n",
    "                x_hat[:, k + 1] = A @ x_hat[:, k] + B @ u_k\n",
    "            else:\n",
    "                innovation = y_k - C @ x_hat[:, k]\n",
    "                x_hat[:, k + 1] = A @ x_hat[:, k] + B @ u_k + L @ innovation\n",
    "\n",
    "            e[:, k + 1] = x[:, k + 1] - x_hat[:, k + 1]\n",
    "\n",
    "        mean_errors[i, j] = np.mean(np.linalg.norm(e, axis=0))"
   ]
  },
  {
   "cell_type": "code",
   "execution_count": null,
   "id": "87ee6853",
   "metadata": {},
   "outputs": [],
   "source": [
    "plt.figure(figsize=(8, 6))\n",
    "plt.imshow(mean_errors, origin='lower', cmap='viridis',\n",
    "           extent=(drop_probs[0], drop_probs[-1], attack_levels[0], attack_levels[-1]),\n",
    "           aspect='auto')\n",
    "plt.colorbar(label='Mean Estimation Error')\n",
    "plt.xlabel('Packet Drop Probability (1 - $p_s$)')\n",
    "plt.ylabel('Attack Strength ζ')\n",
    "plt.title('Sensitivity Analysis: Error vs Attack Strength and Drop Rate')\n",
    "plt.tight_layout()\n",
    "plt.show()"
   ]
  }
 ],
 "metadata": {},
 "nbformat": 4,
 "nbformat_minor": 5
}
